{
 "cells": [
  {
   "cell_type": "code",
   "execution_count": 6,
   "id": "f34f0d2e-ad5e-41c5-b111-e7f9b58b7d55",
   "metadata": {},
   "outputs": [
    {
     "name": "stdout",
     "output_type": "stream",
     "text": [
      "      vendedor_1  vendedor_2   producto       fecha\n",
      "0              5           5   CONSOLA9  05/05/2024\n",
      "1              4           7   SMARTWAT  01/07/2012\n",
      "2              4          11  CELULAA01  24/07/2010\n",
      "3              5           9   AIRE2200  03/03/2016\n",
      "4              5           4   SMARTWAT  30/06/2015\n",
      "...          ...         ...        ...         ...\n",
      "4995           2           8   LAPTOP15  21/05/2024\n",
      "4996           4           6   LAPTOP15  19/08/2018\n",
      "4997           7           6   CAMARAHD  02/05/2013\n",
      "4998           6           4       TV42  10/07/2022\n",
      "4999           3           9    DRONE99  30/09/2023\n",
      "\n",
      "[5000 rows x 4 columns]\n"
     ]
    }
   ],
   "source": [
    "# Miguel Angel Martinez Moncada 1945469 Practica 4 Statistics Test\n",
    "\n",
    "import pandas as pd\n",
    "import scipy.stats as stats\n",
    "import matplotlib.pyplot as plt\n",
    "\n",
    "# Se lee el dataset preparado\n",
    "df = pd.read_csv(\"Data Cleaning dataset-MAMM.csv\")\n",
    "\n",
    "# Se imprime el dataset\n",
    "print(df)"
   ]
  },
  {
   "cell_type": "code",
   "execution_count": 12,
   "id": "e1ba97a5-498a-49a7-9de8-4083b6997764",
   "metadata": {},
   "outputs": [
    {
     "name": "stdout",
     "output_type": "stream",
     "text": [
      "Kruskal-Wallis vendedor_1: H = 8.836897839681026 p = 0.45246429968729307\n",
      "Kruskal-Wallis vendedor_2: H = 14.170983823952508 p = 0.11637167421654372\n",
      "No hay diferencia estadísticamente significativa entre produvtos del vendedor 1.\n",
      "No hay diferencia estadísticamente significativa entre produvtos del vendedor 2.\n"
     ]
    }
   ],
   "source": [
    "# Se crean los grupos con los cuales hacer la prueba de krsukall wallis \n",
    "grupos_v1 = [group['vendedor_1'].values for name, group in df.groupby('producto')]\n",
    "grupos_v2 = [group['vendedor_2'].values for name, group in df.groupby('producto')]\n",
    "\n",
    "# Kruskal-Wallis vendedor_1\n",
    "h_v1, p_v1 = stats.kruskal(*grupos_v1)\n",
    "print(\"Kruskal-Wallis vendedor_1:\", \"H =\", h_v1, \"p =\", p_v1)\n",
    "\n",
    "# Kruskal-Wallis vendedor_2\n",
    "h_v2, p_v2 = stats.kruskal(*grupos_v2)\n",
    "print(\"Kruskal-Wallis vendedor_2:\", \"H =\", h_v2, \"p =\", p_v2)\n",
    "if p_kw_v1 < 0.05:\n",
    "    print(\"Hay una diferencia estadísticamente significativa entre los produvtos del vendedor 1.\")\n",
    "else:\n",
    "    print(\"No hay diferencia estadísticamente significativa entre produvtos del vendedor 1.\")\n",
    "if p_kw_v2 < 0.05:\n",
    "    print(\"Hay una diferencia estadísticamente significativa entre los produvtos del vendedor 2.\")\n",
    "else:\n",
    "    print(\"No hay diferencia estadísticamente significativa entre produvtos del vendedor 2.\")"
   ]
  },
  {
   "cell_type": "code",
   "execution_count": 14,
   "id": "c6d3dbf0-66ae-4461-af58-2516405dd78d",
   "metadata": {},
   "outputs": [
    {
     "name": "stdout",
     "output_type": "stream",
     "text": [
      "🔎 Kruskal-Wallis Test entre vendedor_1 y vendedor_2:\n",
      "H = 1400.4120\n",
      "p = 0.0000\n",
      "Hay una diferencia estadísticamente significativa entre los dos vendedores.\n"
     ]
    }
   ],
   "source": [
    "# Prueba entre los 2 vendedores\n",
    "ventas_v1 = df['vendedor_1']\n",
    "ventas_v2 = df['vendedor_2']\n",
    "\n",
    "# Prueba de Kruskal-Wallis\n",
    "h_stat, p_value = stats.kruskal(ventas_v1, ventas_v2)\n",
    "\n",
    "# Mostrar resultados\n",
    "print(\"Kruskal-Wallis Test entre vendedor_1 y vendedor_2:\")\n",
    "print(f\"H = {h_stat:.4f}\")\n",
    "print(f\"p = {p_value:.4f}\")\n",
    "\n",
    "if p_value < 0.05:\n",
    "    print(\"Hay una diferencia estadísticamente significativa entre los dos vendedores.\")\n",
    "else:\n",
    "    print(\"No hay diferencia estadísticamente significativa entre los dos vendedores.\")"
   ]
  },
  {
   "cell_type": "code",
   "execution_count": null,
   "id": "3ce7fed5-40a2-41fc-a13a-dd05f5c41db5",
   "metadata": {},
   "outputs": [],
   "source": []
  }
 ],
 "metadata": {
  "kernelspec": {
   "display_name": "Python 3 (ipykernel)",
   "language": "python",
   "name": "python3"
  },
  "language_info": {
   "codemirror_mode": {
    "name": "ipython",
    "version": 3
   },
   "file_extension": ".py",
   "mimetype": "text/x-python",
   "name": "python",
   "nbconvert_exporter": "python",
   "pygments_lexer": "ipython3",
   "version": "3.12.3"
  }
 },
 "nbformat": 4,
 "nbformat_minor": 5
}
